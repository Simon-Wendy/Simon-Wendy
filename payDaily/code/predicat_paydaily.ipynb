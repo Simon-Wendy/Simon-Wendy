{
 "cells": [
  {
   "cell_type": "code",
   "execution_count": 1,
   "metadata": {},
   "outputs": [
    {
     "name": "stderr",
     "output_type": "stream",
     "text": [
      "d:\\python\\lib\\importlib\\_bootstrap.py:219: RuntimeWarning: numpy.ufunc size changed, may indicate binary incompatibility. Expected 192 from C header, got 216 from PyObject\n",
      "  return f(*args, **kwds)\n",
      "d:\\python\\lib\\importlib\\_bootstrap.py:219: RuntimeWarning: numpy.ufunc size changed, may indicate binary incompatibility. Expected 192 from C header, got 216 from PyObject\n",
      "  return f(*args, **kwds)\n",
      "d:\\python\\lib\\importlib\\_bootstrap.py:219: RuntimeWarning: numpy.ufunc size changed, may indicate binary incompatibility. Expected 192 from C header, got 216 from PyObject\n",
      "  return f(*args, **kwds)\n",
      "d:\\python\\lib\\importlib\\_bootstrap.py:219: RuntimeWarning: numpy.ufunc size changed, may indicate binary incompatibility. Expected 192 from C header, got 216 from PyObject\n",
      "  return f(*args, **kwds)\n",
      "d:\\python\\lib\\importlib\\_bootstrap.py:219: RuntimeWarning: numpy.ufunc size changed, may indicate binary incompatibility. Expected 192 from C header, got 216 from PyObject\n",
      "  return f(*args, **kwds)\n"
     ]
    }
   ],
   "source": [
    "import pandas as pd\n",
    "import numpy as np\n",
    "import seaborn as sns\n",
    "import matplotlib.pyplot as plt\n",
    "%matplotlib inline"
   ]
  },
  {
   "cell_type": "code",
   "execution_count": 2,
   "metadata": {
    "scrolled": true
   },
   "outputs": [
    {
     "data": {
      "text/html": [
       "<div>\n",
       "<style scoped>\n",
       "    .dataframe tbody tr th:only-of-type {\n",
       "        vertical-align: middle;\n",
       "    }\n",
       "\n",
       "    .dataframe tbody tr th {\n",
       "        vertical-align: top;\n",
       "    }\n",
       "\n",
       "    .dataframe thead th {\n",
       "        text-align: right;\n",
       "    }\n",
       "</style>\n",
       "<table border=\"1\" class=\"dataframe\">\n",
       "  <thead>\n",
       "    <tr style=\"text-align: right;\">\n",
       "      <th></th>\n",
       "      <th>data_flag</th>\n",
       "      <th>账户ID</th>\n",
       "      <th>账户名称</th>\n",
       "      <th>客户一级行业</th>\n",
       "      <th>客户二级行业</th>\n",
       "      <th>资质客户ID</th>\n",
       "      <th>客户名称</th>\n",
       "      <th>订单行</th>\n",
       "      <th>总消费</th>\n",
       "      <th>搜索点击消费</th>\n",
       "      <th>...</th>\n",
       "      <th>原生阿拉丁消费</th>\n",
       "      <th>原生CPC消费</th>\n",
       "      <th>原生CPM消费</th>\n",
       "      <th>百意Feed消费</th>\n",
       "      <th>百意无线开屏CPC消费</th>\n",
       "      <th>原生GD消费</th>\n",
       "      <th>百意FeedGD消费</th>\n",
       "      <th>原生CPC优惠券消费</th>\n",
       "      <th>原生CPM优惠券消费</th>\n",
       "      <th>慧合CPT消费</th>\n",
       "    </tr>\n",
       "  </thead>\n",
       "  <tbody>\n",
       "    <tr>\n",
       "      <th>0</th>\n",
       "      <td>20190726</td>\n",
       "      <td>26922561</td>\n",
       "      <td>海马汽车有限公司</td>\n",
       "      <td>车辆物流</td>\n",
       "      <td>汽车厂商</td>\n",
       "      <td>428877265</td>\n",
       "      <td>海马汽车有限公司</td>\n",
       "      <td>0</td>\n",
       "      <td>4683.56</td>\n",
       "      <td>1350.25</td>\n",
       "      <td>...</td>\n",
       "      <td>0.0</td>\n",
       "      <td>2372.81</td>\n",
       "      <td>960.50</td>\n",
       "      <td>0.0</td>\n",
       "      <td>0.0</td>\n",
       "      <td>0.0</td>\n",
       "      <td>0.0</td>\n",
       "      <td>0.0</td>\n",
       "      <td>0.0</td>\n",
       "      <td>0.0</td>\n",
       "    </tr>\n",
       "    <tr>\n",
       "      <th>1</th>\n",
       "      <td>20190727</td>\n",
       "      <td>26922561</td>\n",
       "      <td>海马汽车有限公司</td>\n",
       "      <td>车辆物流</td>\n",
       "      <td>汽车厂商</td>\n",
       "      <td>428877265</td>\n",
       "      <td>海马汽车有限公司</td>\n",
       "      <td>0</td>\n",
       "      <td>6037.62</td>\n",
       "      <td>1595.04</td>\n",
       "      <td>...</td>\n",
       "      <td>0.0</td>\n",
       "      <td>2854.84</td>\n",
       "      <td>1587.74</td>\n",
       "      <td>0.0</td>\n",
       "      <td>0.0</td>\n",
       "      <td>0.0</td>\n",
       "      <td>0.0</td>\n",
       "      <td>0.0</td>\n",
       "      <td>0.0</td>\n",
       "      <td>0.0</td>\n",
       "    </tr>\n",
       "    <tr>\n",
       "      <th>2</th>\n",
       "      <td>20190728</td>\n",
       "      <td>26922561</td>\n",
       "      <td>海马汽车有限公司</td>\n",
       "      <td>车辆物流</td>\n",
       "      <td>汽车厂商</td>\n",
       "      <td>428877265</td>\n",
       "      <td>海马汽车有限公司</td>\n",
       "      <td>0</td>\n",
       "      <td>8933.08</td>\n",
       "      <td>1474.75</td>\n",
       "      <td>...</td>\n",
       "      <td>0.0</td>\n",
       "      <td>5760.67</td>\n",
       "      <td>1697.66</td>\n",
       "      <td>0.0</td>\n",
       "      <td>0.0</td>\n",
       "      <td>0.0</td>\n",
       "      <td>0.0</td>\n",
       "      <td>0.0</td>\n",
       "      <td>0.0</td>\n",
       "      <td>0.0</td>\n",
       "    </tr>\n",
       "    <tr>\n",
       "      <th>3</th>\n",
       "      <td>20190729</td>\n",
       "      <td>26922561</td>\n",
       "      <td>海马汽车有限公司</td>\n",
       "      <td>车辆物流</td>\n",
       "      <td>汽车厂商</td>\n",
       "      <td>428877265</td>\n",
       "      <td>海马汽车有限公司</td>\n",
       "      <td>0</td>\n",
       "      <td>9317.62</td>\n",
       "      <td>1135.08</td>\n",
       "      <td>...</td>\n",
       "      <td>0.0</td>\n",
       "      <td>7234.05</td>\n",
       "      <td>948.49</td>\n",
       "      <td>0.0</td>\n",
       "      <td>0.0</td>\n",
       "      <td>0.0</td>\n",
       "      <td>0.0</td>\n",
       "      <td>0.0</td>\n",
       "      <td>0.0</td>\n",
       "      <td>0.0</td>\n",
       "    </tr>\n",
       "    <tr>\n",
       "      <th>4</th>\n",
       "      <td>20190730</td>\n",
       "      <td>26922561</td>\n",
       "      <td>海马汽车有限公司</td>\n",
       "      <td>车辆物流</td>\n",
       "      <td>汽车厂商</td>\n",
       "      <td>428877265</td>\n",
       "      <td>海马汽车有限公司</td>\n",
       "      <td>0</td>\n",
       "      <td>8469.21</td>\n",
       "      <td>1348.32</td>\n",
       "      <td>...</td>\n",
       "      <td>0.0</td>\n",
       "      <td>6309.76</td>\n",
       "      <td>811.13</td>\n",
       "      <td>0.0</td>\n",
       "      <td>0.0</td>\n",
       "      <td>0.0</td>\n",
       "      <td>0.0</td>\n",
       "      <td>0.0</td>\n",
       "      <td>0.0</td>\n",
       "      <td>0.0</td>\n",
       "    </tr>\n",
       "  </tbody>\n",
       "</table>\n",
       "<p>5 rows × 24 columns</p>\n",
       "</div>"
      ],
      "text/plain": [
       "   data_flag      账户ID      账户名称 客户一级行业 客户二级行业     资质客户ID      客户名称  订单行  \\\n",
       "0   20190726  26922561  海马汽车有限公司   车辆物流   汽车厂商  428877265  海马汽车有限公司    0   \n",
       "1   20190727  26922561  海马汽车有限公司   车辆物流   汽车厂商  428877265  海马汽车有限公司    0   \n",
       "2   20190728  26922561  海马汽车有限公司   车辆物流   汽车厂商  428877265  海马汽车有限公司    0   \n",
       "3   20190729  26922561  海马汽车有限公司   车辆物流   汽车厂商  428877265  海马汽车有限公司    0   \n",
       "4   20190730  26922561  海马汽车有限公司   车辆物流   汽车厂商  428877265  海马汽车有限公司    0   \n",
       "\n",
       "       总消费   搜索点击消费  ...  原生阿拉丁消费  原生CPC消费  原生CPM消费  百意Feed消费  百意无线开屏CPC消费  \\\n",
       "0  4683.56  1350.25  ...      0.0  2372.81   960.50       0.0          0.0   \n",
       "1  6037.62  1595.04  ...      0.0  2854.84  1587.74       0.0          0.0   \n",
       "2  8933.08  1474.75  ...      0.0  5760.67  1697.66       0.0          0.0   \n",
       "3  9317.62  1135.08  ...      0.0  7234.05   948.49       0.0          0.0   \n",
       "4  8469.21  1348.32  ...      0.0  6309.76   811.13       0.0          0.0   \n",
       "\n",
       "   原生GD消费  百意FeedGD消费  原生CPC优惠券消费  原生CPM优惠券消费  慧合CPT消费  \n",
       "0     0.0         0.0         0.0         0.0      0.0  \n",
       "1     0.0         0.0         0.0         0.0      0.0  \n",
       "2     0.0         0.0         0.0         0.0      0.0  \n",
       "3     0.0         0.0         0.0         0.0      0.0  \n",
       "4     0.0         0.0         0.0         0.0      0.0  \n",
       "\n",
       "[5 rows x 24 columns]"
      ]
     },
     "execution_count": 2,
     "metadata": {},
     "output_type": "execute_result"
    }
   ],
   "source": [
    "df = pd.read_csv(\"../data/全年日消费.csv\")\n",
    "df.head()"
   ]
  },
  {
   "cell_type": "code",
   "execution_count": 3,
   "metadata": {
    "scrolled": true
   },
   "outputs": [
    {
     "data": {
      "text/plain": [
       "array(['海马汽车有限公司', '车前草计算机科技', '百度汽车事业部-河南源通欧拉4S店', '华鑫机械设备制造', '宇通公司',\n",
       "       '宇通房车-专', '百度汽车事业部-一汽大众合众明德', '优斯教育', '青蓝教育科技', '百度汽车事业部-河南福顺4S店',\n",
       "       'fudalexus', '发展机械制造', '华帝科学技术研究院', 'BD二类电商合生堂8', '丹江大观苑',\n",
       "       'BD二类电商欣之春', 'rzq-房产', '云锐网络', '达人视界', '华东电缆1', '华预国际',\n",
       "       '百度汽车事业部-马自达小伙伴4S店', '大和田乐器1', '西郡原著1', '金惠新悦', '消防职业培训学校', '果喵喵',\n",
       "       '百度汽车事业部-河南富达雪铁龙', '百度汽车事业部-河南瑞爵名爵', '招商加盟-博凯医药保健品', '宇通客车',\n",
       "       '大河全媒体集团03', '大河全媒体集团04', '郑州金融岛', '百度汽车事业部-河南宜丰MAXUS',\n",
       "       '招商加盟-郑州盈康实业', '大豫网', '河南特味村', '汽车真报价003', '智友机械制造', '紫云云计算',\n",
       "       '郑州达人视界职业培训学校', '招商加盟-三益', '中原网络传媒', '科琦游乐', '河南装一网', '保勒开美科技',\n",
       "       '招商加盟-仰韶酒业', '大宋官窑2', '居然之家欧凯龙北龙湖店', '河南省福利彩票', '河南中国风',\n",
       "       '百度汽车事业部-中升裕迪4S店', '和谐集团豪华车特卖中心', '新启辰房地产', '翼启共赢电子商务', '保利海德公园',\n",
       "       '博凯健康2', '汽车真报价002', '郑州巨有味', '宝莲祥宝马', '乾昌珠宝8888',\n",
       "       '百度汽车事业部-河南莱茵汽车', '国远广告', 'BD二类电商公司1', '博凯药业', '隆庆祥商贸',\n",
       "       'BD二类电商弘康万嘉', '百度汽车事业部-河南通孚祥集团', '银基广场', '郑州杨氏保温耐火材料', '云锐网络1',\n",
       "       '河南古坊颜瓷4', '河南古坊颜瓷5', '河南古坊颜瓷6', '华帝科学技术研究院1', '河南中原消费金融',\n",
       "       '河南中原消费金融1', '德鲁熊装饰', 'BD二类电商神艾康', '招商加盟-润鸿', '海亮外国语学校', '饮悦工坊1',\n",
       "       '河南真二网', '大展红旗汽车销售', '吉展汽车销售', '凤凰城建材家居', '招商加盟-翼启共赢', 'zz河南荣爵汽车',\n",
       "       'BD二类电商跨境电商2', '雅方亲子教育4', '花卷云信息科技3', '招商加盟-杜康', '素问科技', '炽天使陪玩',\n",
       "       '蓝塔食品', '百度汽车事业部-宏基斯柯达4S店', '豫满全球1', '大河全媒体集团02', '郑州中科甲状腺2',\n",
       "       '郑州宏亮电缆', '河南金牌律师', '莫吉托艺术培训', '百度汽车事业部-河南威佳英菲尼迪',\n",
       "       '百度汽车事业部-郑州荣威世源店', '百度汽车事业部-郑州荣威宜远店', '路捷交通设施', '航美正兴1',\n",
       "       'BD二类电商跨境电商1', '效律网', '雅方教育研究院4', '雅方教育研究院5', 'BD二类电商正仁电商',\n",
       "       '海亮外语中学1', '华知企业2', '装一网河南', 'zz装一网', '巩义市龙祥机械厂', 'haima1',\n",
       "       '中原国际车展', '广积德2', '广积德3', '美景素心园', 'hn-kjjl666', '百度汽车事业部-郑州东荣行荣威',\n",
       "       '今古燕窝', '今古燕窝1', '招商加盟-华豫跑腿', '百度汽车事业部-河南瑞华哈弗', '招商加盟-阿贤鲍鱼',\n",
       "       '郑州紫帆装饰', '河南宝视达眼镜', '大河全媒体广告', '香港英格拉', '汽车真报价005', '郑州智汇魔方2',\n",
       "       '普罗房地产', '三门峡裕展', '常绿东风宸院', '河南古坊颜瓷7', '河南建华耐火材料', '福蒙特',\n",
       "       '河南杨金外包产业园', '濮阳苗王', '河南三益生物', '郑州市紫帆装饰', 'hn-kjjl100', '河南东方传媒',\n",
       "       '永在房产策划', '博凯健康1', '郑州佳味缘', '酒客来第一分公司', '翼虎星文化', '晓禾房地产', '和信证券',\n",
       "       '百度汽车事业部-郑州鼎润店', '河南真二网1', '建设银行', '建设银行1', 'BD二类电商-合生堂', '鼎晟装饰公司',\n",
       "       '河南房客多10', '森澜装饰', '郑州方快锅炉', '河南豫舞枫', '大河全媒体集团05', '大河全媒体集团06',\n",
       "       'PZ信阳市浉河区政府', 'BD二类电商友存3', 'BD二类电商友存5', 'BD二类电商跨境电子1', 'zz-wangka',\n",
       "       '河南樱桃沟', 'PZ鹤壁文化', '光法律师', '易保网络', 'BD二类电商abm1', '招商加盟-达梵天',\n",
       "       'BD二类电商hst2', 'hn-kjjl365', '百度汽车事业部-郑州阿斯顿马丁', '江恒房地产',\n",
       "       '百度汽车事业部-东风风光河南荣翔', '百度汽车事业部-郑州恒爵名爵', '巨业广告', '泉舜上城', '招商加盟-恒锦餐饮',\n",
       "       '郑州雅方教育', '易保网络2', '帮帮办03', '中信银行郑州分行', '郑州国瑞传媒', '郑州大学自考办',\n",
       "       '汽车真报价001', '华夏天下知识产权运营', '河南中原消费金融3', '九合计算机科技', '威佳奥迪', '河南沸鼎网络',\n",
       "       '河南鼎美01', 'zzguorui02', '郑州装一网', '大河全媒体集团01', '百度汽车华中区事业部-腾发名车',\n",
       "       '百度汽车事业部-郑州荣威宜华店', '崔月清', '皓一泽食品', '砼阳机械', '河南贰零零壹',\n",
       "       '百度汽车事业部-国际进口大众', '阅读王', '百度汽车事业部-河南江铃店', '招商加盟-妙互联', '河南房客多1',\n",
       "       '招商加盟-白象调味品', '商脉实业', '博凯健康3', 'QCZBJ', 'QCZBJ666', '郑州建业外国语中学',\n",
       "       '中原证券股份有限公司', '百度汽车事业部-信阳合众汽车', 'BD二类电商-意坤百货商行', '郑州客成网络',\n",
       "       'BD二类电商友存', '百度汽车事业部-河南裕之凯', '河南欧凯龙家居', '瑞奇防治', '百度汽车事业部-广汽三菱鑫丰菱店',\n",
       "       'starday', 'haima2', '宇通客车集团', 'BD二类电商-易4', 'BD二类电商-易5',\n",
       "       'BD二类电商-易6', '河南荣爵', '安霸保全', '航美正兴', '华丰投资', 'msnfcp', '瑞奇有害生物防治',\n",
       "       '郑州中科甲状腺24', '郑州中科甲状腺25', '豫舞枫食品', '南北西房地产', 'BD二类电商友存1',\n",
       "       'BD二类电商友存2', 'hn-kjjl888', '河南江铃', '宇通房车', 'BD二类电商-易1',\n",
       "       'BD二类电商-易2', '天华乐学02', '河南中大门', '开封清明上河园', '河南华师圣才', '跨境电子1',\n",
       "       '朗悦公园府', '和骏汽车', '清瀚文化', '和信证券2', '炽天使网络1', 'zznb01', 'zznb02',\n",
       "       '聚合祥实业', '河南贵简律师事务所', '郑州东方传媒', '广积德', '广积德1', '易保网络5', '郑州红星美凯龙',\n",
       "       '易保网络3', '易保网络4', '泰凰飞商贸', '嵩顶滑雪场', '大宋官窑3', '大宋官窑4',\n",
       "       '百度汽车事业部-郑州双仪东本', '百度汽车事业部-郑州鑫盛菱', '郑州中科甲状腺1', '炽天使网络',\n",
       "       '百度汽车事业部-河南合众新沃', '郑州方快锅炉2', '金佑财富', '氢元素网络科技', '郑州郑宇重工有限公司',\n",
       "       '郑州妙味餐饮3', '大河数字传播', '龙宝行汽车', '苍华文化', '立车网', '百度汽车事业部-河南瑞丰哈弗',\n",
       "       '元慧律师事务所', '礼姑娘', '龙亭公园', '御酒坊酒业', '海汇中心', 'PZ郑州中科甲状腺', '渡德装饰工程',\n",
       "       '见素律师', '金门饼家', '招商加盟-优斯教育', '郑州中科甲状腺4', '盛椿元饰品', '中医外科', '居易房产网',\n",
       "       '大河全媒体集团07', '大河全媒体集团08', '河南古坊颜瓷', 'rzq-房产1', 'hn-众建教育',\n",
       "       '河南古坊颜瓷1', '建设银行2', '建设银行3', '郑州家有儿女', '搏耕餐饮服务', '海马汽车有限公司1',\n",
       "       '海马汽车有限公司2', '郑州中兴时代', '河南启星行汽车销售', '河南蒙太奇教育', '河南蒙太奇教育1', '世康优',\n",
       "       'PZ康桥', '河南沸鼎网络01', '清大教育3', '盛澳金尊府', '汉威科技集团', '同信门窗', '苍宇房产策划',\n",
       "       '壹玖咨询', '豆盟广告6', '豆盟广告7', '豆盟广告8', 'douyufenqi', '郑州巨有味2', '豆盟广告3',\n",
       "       'douyufenqi3', 'BD二类电商古坊颜瓷', '郑州中科甲状腺3', '河南中原消费金融2', '汽车真报价006',\n",
       "       '河南房客多', '汽车真报价平台', '甄正', '帮帮办02', '豆盟广告4', '豆盟广告5', '亮普家具保养',\n",
       "       'PZ开封清明上和园', '河南宝视达眼镜1', '雅方教育', '比一比网', '帮帮办法律', '十步九歌酒业1',\n",
       "       '和信证券1', 'BD二类电商-易0', '罗斯汀', '华行小额贷', '汇隆新材料', 'BD二类电商-易15',\n",
       "       'BD二类电商-易16', 'BD二类电商-易17', 'BD二类电商-易18', '郑州美向', '郑州中升之星汽车',\n",
       "       '河南古坊颜瓷2', '河南古坊颜瓷3', '车团网', '小子置业', '招商加盟-三益1', '炽天使网络3',\n",
       "       '郑州奥泽汽车', '卧龙阳光泳池', '纳百教育', '必成房地产', '河海置业', '勇冠', '见素律师事务所',\n",
       "       '郑州工大建材', 'BD二类电商-工艺ybk1', '卧龙游乐', '招商加盟-众德晨1', '居然之家购物中心', '金豆豆1',\n",
       "       '金豆豆3', 'PZ河南三益', '建业住宅集团', 'BD二类电商hst9', 'BD二类电商hst10', '郑州盈安置业',\n",
       "       '河南优秀律师网', '省多多网', '万安妇产医院', '郑州万安', '优家网科技', '郑州巨有味3', 'PZ中共禹州市委',\n",
       "       '阿利人餐饮', '雅方亲子教育2', '雅方教育研究院1', '雅方教育研究院2', '雅方教育研究院3',\n",
       "       'BD二类电商绿莹3', '华知企业', 'PZ河南中原消费金融', '河南房客多6', '河南房客多7', '河南房客多8',\n",
       "       '河南房客多9', '郑州英格瑞', 'BD二类电商hst3', 'BD二类电商hst5', 'BD二类电商hst8',\n",
       "       '大河全媒体集团', '华龙电缆123', '天华教育', '润之智慧农业', '河南省联通', '天喜电子科技',\n",
       "       'CLASSTOP教育', '河南攀之奇', '锐旗南阳03', '贞玉吉商贸', '大河婚博会真棒', '比一比网2',\n",
       "       'zhengzhouuu', '华东电缆', '大正房地产', '民生xyk', '亚通置业', '建工3', '昊之晨房产',\n",
       "       '郑州居然之家装饰', '小额贷1', '小额贷3', 'PZ开封宣传', '郑州中兴时代2', '河南成教网2014',\n",
       "       '河南华东电缆', 'BD二类电商-yrg6', 'BD二类电商-yrg7', 'BD二类电商-yrg8',\n",
       "       'BD二类电商-yrg9', '天健湖产业园', '郑州佳龙食品', '雅方亲子教育1', '郑州智彩包装',\n",
       "       'BD二类电商迪巧乐1', 'BD二类电商弘康万嘉5', 'BD二类电商弘康万嘉6', 'BD二类电商弘康万嘉9',\n",
       "       'BD二类电商弘康万嘉10', '创泽传媒', '河南艺尚装饰', '汽车真报价', '美盛房地产开发', '谷多软件',\n",
       "       '十步九歌酒业', '郑在婚礼', '千乘瑞游乐设备', '喜买购贸易', '普冠网络', '郑州海宁真棒', '锐旗南阳02',\n",
       "       '融跃教育', '光大银行郑州分行', '郑州妙味餐饮', '雅方亲子教育', 'BD二类电商-易12', 'BD二类电商-易13',\n",
       "       'BD二类电商-易14', '大宋官窑5', '大宋官窑6', 'BD二类电商hst1', '郑州瑞锦科技', '景安',\n",
       "       '郑州智汇魔方', '河南奇乐迪', '房客多2', '百度汽车事业部-郑州威佳Jeep', '红飘带',\n",
       "       '百度汽车事业部-东风风光郑州腾业', '豫西大峡谷旅游', '地标新房', 'BD二类电商公司2', '律聊网络',\n",
       "       '河南房客多4', '河南房客多5', '河南鼎汉科技', '朗悦置业', '地标小蜜蜂', '河南裕港置业', '名威汽车',\n",
       "       '金佑财富666', '大河数字传播02', '卓瑞房产', '郑大自考招生2015', '招商加盟-香雪儿', '佳龙食品',\n",
       "       'BD二类电商跨境电商', 'rzq-房产4', '大疆房地产', '郑州中科甲状腺5', '青兰教育', '针石律师事务所',\n",
       "       'BD二类电商-易3', 'BD二类电商南阳绿莹', 'BD二类电商迪巧乐', 'BD二类电商弘康万嘉4', '郑州房讯网',\n",
       "       '华普在线', 'BD二类电商-易19', 'BD二类电商-易20', '省多多2', '华信期货', '河南博凯电子商务',\n",
       "       '中原证券2', '请律师网', '河南房客多3', '河南房客多2', '豆盟广告9', '海亮外语中学', '海亮教育',\n",
       "       '49pic', '花卷云信息科技', '殷尔胜商贸', '郑州中科甲状腺6', '郑州中科甲状腺7', 'BD二类电商-易7',\n",
       "       'BD二类电商-易8', 'BD二类电商-易9', 'BD二类电商弘康万嘉3', '全家福郑州分公司', '方飞装饰',\n",
       "       'snfc888', '长基置业', '易保网络00', '郑州易保网络', '海马汽车1', '海马汽车2',\n",
       "       'BD二类电商绿莹', '河南邦成贷款', '郑州天地亿家', '珂兰珠宝', '谷居网络科技', 'hnbcls', '慧房网',\n",
       "       '招商加盟-古坊颜瓷', '招商加盟-宏胜', 'rzq-房产3', 'zz-abc英语', '纳百教育01',\n",
       "       '花卷云信息科技1', 'BD二类电商-易10', 'BD二类电商-易11', 'hn-jgk100', 'hn-jgk200',\n",
       "       '糖半甜', '河南碧海文化', '国圣标识标牌', '小额贷2', '商丘华行', '郑州九十度', '天华乐学',\n",
       "       'zz-小额贷', '邦成资产管理', 'UFO科技创新', 'PZ中大门网络', '宇通重工', '郑州金星', '郑州福晶园',\n",
       "       '北大绿都', '郑州大学招生', '建工5', '建工6', '碧桂园河南区域', '乐美新环保', '皇沟酒', '慧聚行',\n",
       "       '河南澎湃动力传媒', '郑州碧桂园', '汉笼坊', '郑州妙味餐饮2', '豆盟广告2', '郑州英皇', '河南迅达',\n",
       "       '招商加盟-众德晨', 'PZ郑州农商银行', 'doumeng0', '易保网络0', 'BD二类电商友存8',\n",
       "       'BD二类电商绿莹2', '清大辅导', '快云', '共拓实业', 'PZUU跑腿', '碧桂园河南区域1',\n",
       "       '碧桂园河南区域2', '建工2', '河南鼎汉', '河南鼎汉1', '博凯电子商务1', 'BD二类电商-易而购12',\n",
       "       'BD二类电商-易而购16', 'BD二类电商-yrg', 'BD二类电商-yrg1', 'BD二类电商-yrg2',\n",
       "       'BD二类电商-yrg3', 'BD二类电商-yrg4', '氢元素网络', '新富通', 'PZ海马汽车2',\n",
       "       'PZ中国共产党郑州市', '邦成贷款11', '河南网易邮箱', '英格拉珠宝', '郑州英格拉', '奇乐迪',\n",
       "       'PZ优埃富欧', 'PZ郑州美盛房地产', '德睿置业', 'PZ艾力健', '建业艾美酒店', 'PZ盟否网络', '豆盟广告',\n",
       "       'PZ河南泽卓', '皇沟酒业', '金豫房地产', '星璀文化传媒', '便易充'], dtype=object)"
      ]
     },
     "execution_count": 3,
     "metadata": {},
     "output_type": "execute_result"
    }
   ],
   "source": [
    "df[\"账户名称\"].unique()"
   ]
  },
  {
   "cell_type": "code",
   "execution_count": 5,
   "metadata": {},
   "outputs": [],
   "source": [
    "df[\"总消\"] = df[\"总消费\"]-df[\"凤巢优惠券消费\"]-df[\"原生CPC优惠券消费\"]-df[\"原生CPM优惠券消费\"]"
   ]
  },
  {
   "cell_type": "code",
   "execution_count": 10,
   "metadata": {},
   "outputs": [
    {
     "data": {
      "text/plain": [
       "总消    437260.09\n",
       "dtype: float64"
      ]
     },
     "execution_count": 10,
     "metadata": {},
     "output_type": "execute_result"
    }
   ],
   "source": [
    "np.max(df[[\"data_flag\",\"总消\"]].groupby(by=\"data_flag\").sum())"
   ]
  },
  {
   "cell_type": "code",
   "execution_count": 8,
   "metadata": {},
   "outputs": [
    {
     "data": {
      "text/plain": [
       "<matplotlib.axes._subplots.AxesSubplot at 0x1ca0cf76940>"
      ]
     },
     "execution_count": 8,
     "metadata": {},
     "output_type": "execute_result"
    },
    {
     "name": "stderr",
     "output_type": "stream",
     "text": [
      "d:\\python\\lib\\site-packages\\matplotlib\\backends\\backend_agg.py:214: RuntimeWarning: Glyph 24635 missing from current font.\n",
      "  font.set_text(s, 0.0, flags=flags)\n",
      "d:\\python\\lib\\site-packages\\matplotlib\\backends\\backend_agg.py:214: RuntimeWarning: Glyph 28040 missing from current font.\n",
      "  font.set_text(s, 0.0, flags=flags)\n",
      "d:\\python\\lib\\site-packages\\matplotlib\\backends\\backend_agg.py:183: RuntimeWarning: Glyph 24635 missing from current font.\n",
      "  font.set_text(s, 0, flags=flags)\n",
      "d:\\python\\lib\\site-packages\\matplotlib\\backends\\backend_agg.py:183: RuntimeWarning: Glyph 28040 missing from current font.\n",
      "  font.set_text(s, 0, flags=flags)\n"
     ]
    },
    {
     "data": {
      "image/png": "[encoded data removed]",
      "text/plain": [
       "<Figure size 432x288 with 1 Axes>"
      ]
     },
     "metadata": {
      "needs_background": "light"
     },
     "output_type": "display_data"
    }
   ],
   "source": [
    "df[[\"data_flag\",\"总消\"]].groupby(by=\"data_flag\").sum().plot.bar()"
   ]
  },
  {
   "cell_type": "code",
   "execution_count": 11,
   "metadata": {},
   "outputs": [],
   "source": [
    "data = pd.DataFrame()\n",
    "data[\"账户名称\"] = df[\"账户名称\"].unique()"
   ]
  },
  {
   "cell_type": "code",
   "execution_count": 27,
   "metadata": {},
   "outputs": [],
   "source": [
    "data_cli = pd.DataFrame()\n",
    "data_cli[\"客户名称\"] = df[\"客户名称\"].unique()"
   ]
  },
  {
   "cell_type": "code",
   "execution_count": 14,
   "metadata": {},
   "outputs": [
    {
     "data": {
      "text/plain": [
       "62599.92"
      ]
     },
     "execution_count": 14,
     "metadata": {},
     "output_type": "execute_result"
    }
   ],
   "source": [
    "np.max(df.loc[df[\"账户名称\"] == \"海马汽车有限公司\",\"总消\"])"
   ]
  },
  {
   "cell_type": "code",
   "execution_count": 15,
   "metadata": {},
   "outputs": [],
   "source": [
    "data[\"max\"] = data[\"账户名称\"].apply(lambda x: np.max(df.loc[df[\"账户名称\"] == x,\"总消\"]))"
   ]
  },
  {
   "cell_type": "code",
   "execution_count": 28,
   "metadata": {},
   "outputs": [],
   "source": [
    "data_cli[\"max\"] = data_cli[\"客户名称\"].apply(lambda x: np.max(df.loc[df[\"客户名称\"] == x,\"总消\"]))"
   ]
  },
  {
   "cell_type": "code",
   "execution_count": 18,
   "metadata": {},
   "outputs": [
    {
     "data": {
      "text/plain": [
       "105138.83"
      ]
     },
     "execution_count": 18,
     "metadata": {},
     "output_type": "execute_result"
    }
   ],
   "source": [
    "np.max(data[\"max\"])"
   ]
  },
  {
   "cell_type": "code",
   "execution_count": 20,
   "metadata": {},
   "outputs": [],
   "source": [
    "data[\"最近月均\"] = data[\"账户名称\"].apply(lambda x: df.loc[(df[\"data_flag\"] >= 20200623) & (df[\"账户名称\"] == x),\"总消\"].sum()/30)"
   ]
  },
  {
   "cell_type": "code",
   "execution_count": 30,
   "metadata": {},
   "outputs": [],
   "source": [
    "data_cli[\"最近月均\"] = data_cli[\"客户名称\"].apply(lambda x: df.loc[(df[\"data_flag\"] >= 20200623) & (df[\"客户名称\"] == x),\"总消\"].sum()/30)"
   ]
  },
  {
   "cell_type": "code",
   "execution_count": 21,
   "metadata": {},
   "outputs": [
    {
     "data": {
      "text/html": [
       "<div>\n",
       "<style scoped>\n",
       "    .dataframe tbody tr th:only-of-type {\n",
       "        vertical-align: middle;\n",
       "    }\n",
       "\n",
       "    .dataframe tbody tr th {\n",
       "        vertical-align: top;\n",
       "    }\n",
       "\n",
       "    .dataframe thead th {\n",
       "        text-align: right;\n",
       "    }\n",
       "</style>\n",
       "<table border=\"1\" class=\"dataframe\">\n",
       "  <thead>\n",
       "    <tr style=\"text-align: right;\">\n",
       "      <th></th>\n",
       "      <th>账户名称</th>\n",
       "      <th>max</th>\n",
       "      <th>最近月均</th>\n",
       "    </tr>\n",
       "  </thead>\n",
       "  <tbody>\n",
       "    <tr>\n",
       "      <th>0</th>\n",
       "      <td>海马汽车有限公司</td>\n",
       "      <td>62599.92</td>\n",
       "      <td>8448.715333</td>\n",
       "    </tr>\n",
       "    <tr>\n",
       "      <th>1</th>\n",
       "      <td>车前草计算机科技</td>\n",
       "      <td>33620.15</td>\n",
       "      <td>13273.422667</td>\n",
       "    </tr>\n",
       "    <tr>\n",
       "      <th>2</th>\n",
       "      <td>百度汽车事业部-河南源通欧拉4S店</td>\n",
       "      <td>438.86</td>\n",
       "      <td>0.000000</td>\n",
       "    </tr>\n",
       "    <tr>\n",
       "      <th>3</th>\n",
       "      <td>华鑫机械设备制造</td>\n",
       "      <td>799.02</td>\n",
       "      <td>377.892667</td>\n",
       "    </tr>\n",
       "    <tr>\n",
       "      <th>4</th>\n",
       "      <td>宇通公司</td>\n",
       "      <td>11920.67</td>\n",
       "      <td>6268.316333</td>\n",
       "    </tr>\n",
       "    <tr>\n",
       "      <th>5</th>\n",
       "      <td>宇通房车-专</td>\n",
       "      <td>20338.38</td>\n",
       "      <td>4369.097667</td>\n",
       "    </tr>\n",
       "    <tr>\n",
       "      <th>6</th>\n",
       "      <td>百度汽车事业部-一汽大众合众明德</td>\n",
       "      <td>1174.41</td>\n",
       "      <td>261.005000</td>\n",
       "    </tr>\n",
       "    <tr>\n",
       "      <th>7</th>\n",
       "      <td>优斯教育</td>\n",
       "      <td>2739.28</td>\n",
       "      <td>0.000000</td>\n",
       "    </tr>\n",
       "    <tr>\n",
       "      <th>8</th>\n",
       "      <td>青蓝教育科技</td>\n",
       "      <td>5564.88</td>\n",
       "      <td>0.000000</td>\n",
       "    </tr>\n",
       "    <tr>\n",
       "      <th>9</th>\n",
       "      <td>百度汽车事业部-河南福顺4S店</td>\n",
       "      <td>721.55</td>\n",
       "      <td>387.507000</td>\n",
       "    </tr>\n",
       "  </tbody>\n",
       "</table>\n",
       "</div>"
      ],
      "text/plain": [
       "                账户名称       max          最近月均\n",
       "0           海马汽车有限公司  62599.92   8448.715333\n",
       "1           车前草计算机科技  33620.15  13273.422667\n",
       "2  百度汽车事业部-河南源通欧拉4S店    438.86      0.000000\n",
       "3           华鑫机械设备制造    799.02    377.892667\n",
       "4               宇通公司  11920.67   6268.316333\n",
       "5             宇通房车-专  20338.38   4369.097667\n",
       "6   百度汽车事业部-一汽大众合众明德   1174.41    261.005000\n",
       "7               优斯教育   2739.28      0.000000\n",
       "8             青蓝教育科技   5564.88      0.000000\n",
       "9    百度汽车事业部-河南福顺4S店    721.55    387.507000"
      ]
     },
     "execution_count": 21,
     "metadata": {},
     "output_type": "execute_result"
    }
   ],
   "source": [
    "data.head(10)"
   ]
  },
  {
   "cell_type": "code",
   "execution_count": 22,
   "metadata": {},
   "outputs": [
    {
     "data": {
      "text/plain": [
       "377659.10699999996"
      ]
     },
     "execution_count": 22,
     "metadata": {},
     "output_type": "execute_result"
    }
   ],
   "source": [
    "data[\"最近月均\"].sum()"
   ]
  },
  {
   "cell_type": "code",
   "execution_count": 23,
   "metadata": {},
   "outputs": [
    {
     "data": {
      "text/html": [
       "<div>\n",
       "<style scoped>\n",
       "    .dataframe tbody tr th:only-of-type {\n",
       "        vertical-align: middle;\n",
       "    }\n",
       "\n",
       "    .dataframe tbody tr th {\n",
       "        vertical-align: top;\n",
       "    }\n",
       "\n",
       "    .dataframe thead th {\n",
       "        text-align: right;\n",
       "    }\n",
       "</style>\n",
       "<table border=\"1\" class=\"dataframe\">\n",
       "  <thead>\n",
       "    <tr style=\"text-align: right;\">\n",
       "      <th></th>\n",
       "      <th>max</th>\n",
       "      <th>最近月均</th>\n",
       "      <th>predict</th>\n",
       "    </tr>\n",
       "  </thead>\n",
       "  <tbody>\n",
       "    <tr>\n",
       "      <th>count</th>\n",
       "      <td>631.000000</td>\n",
       "      <td>631.000000</td>\n",
       "      <td>631.000000</td>\n",
       "    </tr>\n",
       "    <tr>\n",
       "      <th>mean</th>\n",
       "      <td>5270.587084</td>\n",
       "      <td>598.508886</td>\n",
       "      <td>2000.132345</td>\n",
       "    </tr>\n",
       "    <tr>\n",
       "      <th>std</th>\n",
       "      <td>9190.206505</td>\n",
       "      <td>1872.183700</td>\n",
       "      <td>3490.848352</td>\n",
       "    </tr>\n",
       "    <tr>\n",
       "      <th>min</th>\n",
       "      <td>0.200000</td>\n",
       "      <td>0.000000</td>\n",
       "      <td>0.060000</td>\n",
       "    </tr>\n",
       "    <tr>\n",
       "      <th>25%</th>\n",
       "      <td>657.575000</td>\n",
       "      <td>0.000000</td>\n",
       "      <td>215.446500</td>\n",
       "    </tr>\n",
       "    <tr>\n",
       "      <th>50%</th>\n",
       "      <td>2028.270000</td>\n",
       "      <td>0.000000</td>\n",
       "      <td>721.045533</td>\n",
       "    </tr>\n",
       "    <tr>\n",
       "      <th>75%</th>\n",
       "      <td>6062.995000</td>\n",
       "      <td>258.092500</td>\n",
       "      <td>2381.345250</td>\n",
       "    </tr>\n",
       "    <tr>\n",
       "      <th>max</th>\n",
       "      <td>105138.830000</td>\n",
       "      <td>20802.358333</td>\n",
       "      <td>31890.303600</td>\n",
       "    </tr>\n",
       "  </tbody>\n",
       "</table>\n",
       "</div>"
      ],
      "text/plain": [
       "                 max          最近月均       predict\n",
       "count     631.000000    631.000000    631.000000\n",
       "mean     5270.587084    598.508886   2000.132345\n",
       "std      9190.206505   1872.183700   3490.848352\n",
       "min         0.200000      0.000000      0.060000\n",
       "25%       657.575000      0.000000    215.446500\n",
       "50%      2028.270000      0.000000    721.045533\n",
       "75%      6062.995000    258.092500   2381.345250\n",
       "max    105138.830000  20802.358333  31890.303600"
      ]
     },
     "execution_count": 23,
     "metadata": {},
     "output_type": "execute_result"
    }
   ],
   "source": [
    "data[\"predict\"] = data[\"max\"]*0.3 + data[\"最近月均\"]*0.7\n",
    "data.describe()"
   ]
  },
  {
   "cell_type": "code",
   "execution_count": 31,
   "metadata": {},
   "outputs": [
    {
     "data": {
      "text/html": [
       "<div>\n",
       "<style scoped>\n",
       "    .dataframe tbody tr th:only-of-type {\n",
       "        vertical-align: middle;\n",
       "    }\n",
       "\n",
       "    .dataframe tbody tr th {\n",
       "        vertical-align: top;\n",
       "    }\n",
       "\n",
       "    .dataframe thead th {\n",
       "        text-align: right;\n",
       "    }\n",
       "</style>\n",
       "<table border=\"1\" class=\"dataframe\">\n",
       "  <thead>\n",
       "    <tr style=\"text-align: right;\">\n",
       "      <th></th>\n",
       "      <th>max</th>\n",
       "      <th>最近月均</th>\n",
       "      <th>predict</th>\n",
       "    </tr>\n",
       "  </thead>\n",
       "  <tbody>\n",
       "    <tr>\n",
       "      <th>count</th>\n",
       "      <td>324.000000</td>\n",
       "      <td>324.000000</td>\n",
       "      <td>324.000000</td>\n",
       "    </tr>\n",
       "    <tr>\n",
       "      <th>mean</th>\n",
       "      <td>6303.815525</td>\n",
       "      <td>1165.614528</td>\n",
       "      <td>2707.074827</td>\n",
       "    </tr>\n",
       "    <tr>\n",
       "      <th>std</th>\n",
       "      <td>11421.444781</td>\n",
       "      <td>3825.317447</td>\n",
       "      <td>5174.684039</td>\n",
       "    </tr>\n",
       "    <tr>\n",
       "      <th>min</th>\n",
       "      <td>0.200000</td>\n",
       "      <td>0.000000</td>\n",
       "      <td>0.060000</td>\n",
       "    </tr>\n",
       "    <tr>\n",
       "      <th>25%</th>\n",
       "      <td>659.957500</td>\n",
       "      <td>0.000000</td>\n",
       "      <td>230.476500</td>\n",
       "    </tr>\n",
       "    <tr>\n",
       "      <th>50%</th>\n",
       "      <td>1964.640000</td>\n",
       "      <td>0.000000</td>\n",
       "      <td>697.797683</td>\n",
       "    </tr>\n",
       "    <tr>\n",
       "      <th>75%</th>\n",
       "      <td>7169.030000</td>\n",
       "      <td>388.353917</td>\n",
       "      <td>2871.732300</td>\n",
       "    </tr>\n",
       "    <tr>\n",
       "      <th>max</th>\n",
       "      <td>105138.830000</td>\n",
       "      <td>28498.522333</td>\n",
       "      <td>33277.840933</td>\n",
       "    </tr>\n",
       "  </tbody>\n",
       "</table>\n",
       "</div>"
      ],
      "text/plain": [
       "                 max          最近月均       predict\n",
       "count     324.000000    324.000000    324.000000\n",
       "mean     6303.815525   1165.614528   2707.074827\n",
       "std     11421.444781   3825.317447   5174.684039\n",
       "min         0.200000      0.000000      0.060000\n",
       "25%       659.957500      0.000000    230.476500\n",
       "50%      1964.640000      0.000000    697.797683\n",
       "75%      7169.030000    388.353917   2871.732300\n",
       "max    105138.830000  28498.522333  33277.840933"
      ]
     },
     "execution_count": 31,
     "metadata": {},
     "output_type": "execute_result"
    }
   ],
   "source": [
    "data_cli[\"predict\"] = data_cli[\"max\"]*0.3 + data_cli[\"最近月均\"]*0.7\n",
    "data_cli.describe()"
   ]
  },
  {
   "cell_type": "code",
   "execution_count": 24,
   "metadata": {
    "scrolled": true
   },
   "outputs": [
    {
     "data": {
      "text/plain": [
       "1262083.5099"
      ]
     },
     "execution_count": 24,
     "metadata": {},
     "output_type": "execute_result"
    }
   ],
   "source": [
    "data[\"predict\"].sum()"
   ]
  },
  {
   "cell_type": "code",
   "execution_count": 32,
   "metadata": {},
   "outputs": [
    {
     "data": {
      "text/plain": [
       "877092.2438999999"
      ]
     },
     "execution_count": 32,
     "metadata": {},
     "output_type": "execute_result"
    }
   ],
   "source": [
    "data_cli[\"predict\"].sum()"
   ]
  },
  {
   "cell_type": "code",
   "execution_count": 26,
   "metadata": {},
   "outputs": [],
   "source": [
    "data.to_csv(\"../data/data.csv\",encoding=\"utf_8_sig\")"
   ]
  },
  {
   "cell_type": "code",
   "execution_count": 33,
   "metadata": {},
   "outputs": [],
   "source": [
    "data_cli.to_csv(\"../data/data_cli.csv\",encoding=\"utf_8_sig\")"
   ]
  }
 ],
 "metadata": {
  "kernelspec": {
   "display_name": "Python 3",
   "language": "python",
   "name": "python3"
  },
  "language_info": {
   "codemirror_mode": {
    "name": "ipython",
    "version": 3
   },
   "file_extension": ".py",
   "mimetype": "text/x-python",
   "name": "python",
   "nbconvert_exporter": "python",
   "pygments_lexer": "ipython3",
   "version": "3.6.8"
  }
 },
 "nbformat": 4,
 "nbformat_minor": 4
}
